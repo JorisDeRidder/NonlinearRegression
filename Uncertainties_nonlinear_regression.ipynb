{
 "cells": [
  {
   "cell_type": "markdown",
   "id": "3adc5dc2",
   "metadata": {},
   "source": [
    "# Uncertainty estimation for non-linear regression"
   ]
  },
  {
   "cell_type": "code",
   "execution_count": 47,
   "id": "bc4d6b23",
   "metadata": {},
   "outputs": [],
   "source": [
    "import numpy as np\n",
    "import lmfit\n",
    "import scipy\n",
    "\n",
    "%matplotlib inline\n",
    "import matplotlib\n",
    "from matplotlib import pyplot as plt"
   ]
  },
  {
   "cell_type": "markdown",
   "id": "84f4cb24",
   "metadata": {},
   "source": [
    "Some plot configurations:"
   ]
  },
  {
   "cell_type": "code",
   "execution_count": 48,
   "id": "485f4fd3",
   "metadata": {},
   "outputs": [],
   "source": [
    "plt.rc('font',   size=16)          # controls default text sizes\n",
    "plt.rc('axes',   titlesize=18)     # fontsize of the axes title\n",
    "plt.rc('axes',   labelsize=18)     # fontsize of the x and y labels\n",
    "plt.rc('xtick',  labelsize=18)     # fontsize of the tick labels\n",
    "plt.rc('ytick',  labelsize=18)     # fontsize of the tick labels\n",
    "plt.rc('legend', fontsize=18)      # legend fontsize\n",
    "plt.rc('figure', titlesize=18)     # fontsize of the figure title"
   ]
  },
  {
   "cell_type": "markdown",
   "id": "be9f6d12",
   "metadata": {},
   "source": [
    "## The model to fit"
   ]
  },
  {
   "cell_type": "markdown",
   "id": "153e4797",
   "metadata": {},
   "source": [
    "The model we want to fit is a Gaussian superimposed on a slope:\n",
    "\n",
    "$$ f(x) = a + b\\ x + A \\ e^{-\\frac{\\displaystyle(x-\\mu)^2}{\\displaystyle 2\\sigma^2}} $$\n",
    "\n",
    "which has 5 fit parameters: $a$, $b$, $A$, $\\mu$, and $\\sigma$."
   ]
  },
  {
   "cell_type": "code",
   "execution_count": 49,
   "id": "ee7c6053",
   "metadata": {},
   "outputs": [],
   "source": [
    "def f(x, a, b, A, mu, sigma):\n",
    "    \"\"\"\n",
    "    A gaussian superimposed on a slope\n",
    "    \"\"\"\n",
    "    return a + b * x + A * np.exp(-0.5 * (x - mu)**2 / sigma**2)"
   ]
  },
  {
   "cell_type": "markdown",
   "id": "4fb68964",
   "metadata": {},
   "source": [
    "We will also be using the Jacobian:\n",
    "\n",
    "$$ J(\\mathbf{\\theta}) = \\left[\\frac{\\displaystyle\\partial f(x_i, \\mathbf{\\theta})}{\\displaystyle\\partial \\theta_j} \\right]^{N\\times K}$$\n",
    "\n",
    "where $N$ is the number of observations, and $K$ is the number of fit parameters."
   ]
  },
  {
   "cell_type": "code",
   "execution_count": 50,
   "id": "49779dde",
   "metadata": {},
   "outputs": [],
   "source": [
    "def jacobian(x, a, b, A, mu, sigma):\n",
    "    \"\"\"\n",
    "    Jacobian of the model function f() con\n",
    "    \n",
    "    Input:\n",
    "        x:\n",
    "        a:\n",
    "        b:\n",
    "        A: \n",
    "        mu:\n",
    "        sigma: \n",
    "    \"\"\"\n",
    "\n",
    "    Nparam = 5                                                             # 5 fit parameters\n",
    "    J = np.zeros((len(x), Nparam))\n",
    "    J[:,0] = np.ones_like(x)                                               # 1st col: derivative w.r.t. 'a'\n",
    "    J[:,1] = x                                                             # 2nd col: derivative w.r.t. 'b'\n",
    "    J[:,2] = np.exp(-0.5 * (x - mu)**2 / sigma**2)                         # 3rd col: derivative w.r.t. 'A'\n",
    "    J[:,3] = A * (x-mu) / sigma**2 * np.exp(-0.5 * ((x-mu)/sigma)**2)      # 4th col: derivative w.r.t. 'mu'\n",
    "    J[:,4] = A * (x-mu)**2 / sigma**3 * np.exp(-0.5 * ((x-mu)/sigma)**2)   # 5th col: derivative w.r.t. 'sigma'\n",
    "\n",
    "    return J"
   ]
  },
  {
   "cell_type": "markdown",
   "id": "220317a6",
   "metadata": {},
   "source": [
    "## Creating an artificial noisy dataset"
   ]
  },
  {
   "cell_type": "code",
   "execution_count": 51,
   "id": "db7df9b6",
   "metadata": {},
   "outputs": [],
   "source": [
    "rng = np.random.default_rng(219)                                     # random number generator\n",
    "    \n",
    "a = 1.0                                                               # intercept of the linear background term\n",
    "b = 0.1                                                               # slope of the linear background\n",
    "A = 1.5                                                               # amplitude of the gaussian\n",
    "mu = 5.0                                                              # center of the gaussian\n",
    "sigma = 1                                                             # standard deviation of the gaussian\n",
    "\n",
    "N = 50                                                                # Number of observations\n",
    "x = np.linspace(0, 10, N)                                             # N evenly spread points between 0 and 10\n",
    "y = f(x, a, b, A, mu, sigma) + rng.normal(0.0, 0.2, N)"
   ]
  },
  {
   "cell_type": "markdown",
   "id": "f4f4acf4",
   "metadata": {},
   "source": [
    "Also save the dataset to a csv text file:"
   ]
  },
  {
   "cell_type": "code",
   "execution_count": 52,
   "id": "f51092bf",
   "metadata": {},
   "outputs": [],
   "source": [
    "np.savetxt(\"dataset.csv\", np.transpose([x,y]), delimiter=\",\")"
   ]
  },
  {
   "cell_type": "code",
   "execution_count": 53,
   "id": "87dd5da6",
   "metadata": {},
   "outputs": [
    {
     "data": {
      "image/png": "[encoded data removed]",
      "text/plain": [
       "<Figure size 1000x600 with 1 Axes>"
      ]
     },
     "metadata": {},
     "output_type": "display_data"
    }
   ],
   "source": [
    "fig, ax = plt.subplots(1,1, figsize=(10,6))\n",
    "plt.scatter(x, y, marker='o', s=30)\n",
    "ax.set_xlabel('x')\n",
    "ax.set_ylabel('y') \n",
    "plt.show()"
   ]
  },
  {
   "cell_type": "markdown",
   "id": "e03b6b22",
   "metadata": {},
   "source": [
    "## Fitting the model to the data using lmfit"
   ]
  },
  {
   "cell_type": "code",
   "execution_count": 64,
   "id": "10a01d3e",
   "metadata": {},
   "outputs": [],
   "source": [
    "myModel = lmfit.Model(f)\n",
    "\n",
    "myModel.set_param_hint('a', value=1.0)\n",
    "myModel.set_param_hint('b', value=1.0)\n",
    "myModel.set_param_hint('A', value=1.0)\n",
    "myModel.set_param_hint('mu', value=5.0)\n",
    "myModel.set_param_hint('sigma', value=1.0, min=0.0)"
   ]
  },
  {
   "cell_type": "code",
   "execution_count": 65,
   "id": "a37d360b",
   "metadata": {},
   "outputs": [],
   "source": [
    "myFit = myModel.fit(y, x=x)"
   ]
  },
  {
   "cell_type": "code",
   "execution_count": 66,
   "id": "2bacef14",
   "metadata": {},
   "outputs": [
    {
     "data": {
      "image/png": "[encoded data removed]",
      "text/plain": [
       "<Figure size 1000x600 with 1 Axes>"
      ]
     },
     "metadata": {},
     "output_type": "display_data"
    }
   ],
   "source": [
    "xx = np.linspace(0.0, 10, 100)\n",
    "yy = myModel.eval(x=xx, params=myFit.params)\n",
    "\n",
    "fig, ax = plt.subplots(1,1, figsize=(10,6))\n",
    "plt.scatter(x, y, marker='o', s=30)\n",
    "plt.plot(xx, yy, c='r')\n",
    "ax.set_xlabel('x')\n",
    "ax.set_ylabel('y') \n",
    "plt.show()"
   ]
  },
  {
   "cell_type": "code",
   "execution_count": 67,
   "id": "825779f1",
   "metadata": {},
   "outputs": [],
   "source": [
    "a_best = myFit.best_values['a']\n",
    "b_best = myFit.best_values['b']\n",
    "A_best = myFit.best_values['A']\n",
    "mu_best = myFit.best_values['mu']\n",
    "sigma_best = myFit.best_values['sigma']"
   ]
  },
  {
   "cell_type": "markdown",
   "id": "8cf5c11d",
   "metadata": {},
   "source": [
    "Our best fit parameters are thus:"
   ]
  },
  {
   "cell_type": "code",
   "execution_count": 68,
   "id": "1693f783",
   "metadata": {},
   "outputs": [
    {
     "name": "stdout",
     "output_type": "stream",
     "text": [
      "Best fit parameters:  0.9954097556387486 0.0926938610782855 1.5239579226072766 5.022309601635896 1.0723037716367685\n",
      "Corresponding standard errors:  [0.06832032 0.01048832 0.08887724 0.0712164  0.08062398]\n"
     ]
    }
   ],
   "source": [
    "standard_errors = np.sqrt(myFit.covar.diagonal())\n",
    "print(\"Best fit parameters: \", a_best, b_best, A_best, mu_best, sigma_best)\n",
    "print(\"Corresponding standard errors: \", standard_errors)"
   ]
  },
  {
   "cell_type": "markdown",
   "id": "1bb14a1c",
   "metadata": {},
   "source": [
    "## Manually computing the error bars"
   ]
  },
  {
   "cell_type": "markdown",
   "id": "e028322e",
   "metadata": {},
   "source": [
    "Within the maximum likelihood framework, the covariance matrix ${\\rm Cov}[\\theta]$ of the fit parameters is usually computed using the inverse of the Fisher information $I(\\theta)$:"
   ]
  },
  {
   "cell_type": "markdown",
   "id": "084eabd0",
   "metadata": {},
   "source": [
    "$$ {\\rm Cov}[\\hat{\\theta}] = I^{-1}(\\hat{\\theta}).  $$\n",
    "with\n",
    "$$ I(\\theta) = - \\left[ \\frac{\\displaystyle \\partial^2 l(\\theta)}{\\displaystyle \\partial\\theta_i \\partial\\theta_j}\\right]_{ij} $$"
   ]
  },
  {
   "cell_type": "markdown",
   "id": "07cd15dd",
   "metadata": {},
   "source": [
    "where $l(\\theta)$ is the log-likelihood. Here we abbreviated $\\theta = \\{\\theta_1, \\theta_2, \\theta_3, \\theta_4, \\theta_5\\} = \\{a, b, A, \\mu, \\sigma\\}$\n",
    "\n",
    "In the case of Gaussian noise the log-likelihood becomes:"
   ]
  },
  {
   "cell_type": "markdown",
   "id": "f7d1a30c",
   "metadata": {},
   "source": [
    "$$ \\ln L(\\theta) = -\\frac{N}{2} \\ln\\sigma^2 - \\frac{N}{2} \\ln(2\\pi) - \\frac{1}{2\\sigma^2} \\sum\\limits_{n=1}^N [y_n - f(x_n, \\theta)]^2 \\equiv -\\frac{N}{2} \\ln\\sigma^2 - \\frac{N}{2} \\ln(2\\pi) - \\frac{S(\\theta)}{2\\sigma^2} $$\n",
    "where we abbreviated\n",
    "$$ S(\\theta) = \\sum_{n=1}^N [y_n - f(x_n, \\theta)]^2. $$"
   ]
  },
  {
   "cell_type": "markdown",
   "id": "8466ce3f",
   "metadata": {},
   "source": [
    "The 2nd partial derivatives of the log-likelihood imply 2nd derivatives of $S(\\theta)$ and thus 2nd derivates of the model function:\n",
    "\n",
    "$$ \\frac{\\displaystyle\\partial^2 S(\\theta)}{\\displaystyle \\partial\\theta_i\\partial\\theta_j} = 2 \\sum\\limits_{n=1}^N \\left[ \\frac{\\partial f(x_n, \\theta)}{\\partial\\theta_i} \\cdot \\frac{\\partial f(x_n, \\theta)}{\\partial\\theta_j} - (y_n - f(x_n, \\theta)) \\frac{\\partial^2 f(x_n, \\theta)}{\\partial\\theta_i\\partial\\theta_j}\\right] $$"
   ]
  },
  {
   "cell_type": "markdown",
   "id": "f214209d",
   "metadata": {},
   "source": [
    "lmfit computes these 2nd derivatives using the [numdifftools](https://numdifftools.readthedocs.io/en/stable/intro/index.html) package which uses automatic differentation.\n",
    "Some other packages opt to not use the observed Fisher information matrix, but the expected information matrix $E[I(\\theta)]$. As our model $f(x,\\theta)$ is assumed to be an unbiased model of the data, the 2nd term in the expression above is on average zero. The expected Fisher information matrix can then be computed using only the Jacobian:  "
   ]
  },
  {
   "cell_type": "markdown",
   "id": "ecdb9557",
   "metadata": {},
   "source": [
    "$$ E\\left[  \\frac{\\displaystyle\\partial^2 S(\\theta)}{\\displaystyle \\partial\\theta_i\\partial\\theta_j} \\right] = 2\\  J' \\cdot J $$\n",
    "and thus\n",
    "$$ Cov[\\hat{\\theta}] = s^2 \\ (\\hat{J}' \\cdot \\hat{J})^{-1}.   $$\n",
    "where\n",
    "$$ s^2 = \\frac{\\displaystyle S(\\hat{\\theta})}{\\displaystyle N-K} $$\n",
    "is an unbiased estimate of the variance of the noise."
   ]
  },
  {
   "cell_type": "markdown",
   "id": "28e0dd87",
   "metadata": {},
   "source": [
    "The practical implementation is:"
   ]
  },
  {
   "cell_type": "code",
   "execution_count": 58,
   "id": "8da5f71c",
   "metadata": {},
   "outputs": [],
   "source": [
    "def chisquare(x, y, a, b, A, mu, sigma):\n",
    "    model = f(x, a, b, A, mu, sigma)\n",
    "    return np.sum(np.square(y - model)) "
   ]
  },
  {
   "cell_type": "code",
   "execution_count": 59,
   "id": "f22c0459",
   "metadata": {},
   "outputs": [],
   "source": [
    "K = 5                                                                            # K = number of fit parameters\n",
    "chisquare_best = chisquare(x, y, a_best, b_best, A_best, mu_best, sigma_best)\n",
    "variance_residuals = chisquare_best / (N-K)                                      # N = number of observations"
   ]
  },
  {
   "cell_type": "code",
   "execution_count": 60,
   "id": "01bc9cb7",
   "metadata": {},
   "outputs": [],
   "source": [
    "J = jacobian(x, a_best, b_best, A_best, mu_best, sigma_best)\n",
    "cov_matrix = variance_residuals * np.linalg.inv(J.T @ J)   "
   ]
  },
  {
   "cell_type": "code",
   "execution_count": 61,
   "id": "5edd1749",
   "metadata": {},
   "outputs": [
    {
     "name": "stdout",
     "output_type": "stream",
     "text": [
      "Manually computed standard errors:  [0.06832113 0.01048836 0.08887673 0.07121782 0.08062534]\n"
     ]
    }
   ],
   "source": [
    "sigmas = np.sqrt(cov_matrix.diagonal())\n",
    "print(\"Manually computed standard errors: \", sigmas)"
   ]
  },
  {
   "cell_type": "markdown",
   "id": "cf4c5594",
   "metadata": {},
   "source": [
    "---"
   ]
  }
 ],
 "metadata": {
  "kernelspec": {
   "display_name": "Python 3 (ipykernel)",
   "language": "python",
   "name": "python3"
  },
  "language_info": {
   "codemirror_mode": {
    "name": "ipython",
    "version": 3
   },
   "file_extension": ".py",
   "mimetype": "text/x-python",
   "name": "python",
   "nbconvert_exporter": "python",
   "pygments_lexer": "ipython3",
   "version": "3.11.0"
  }
 },
 "nbformat": 4,
 "nbformat_minor": 5
}
